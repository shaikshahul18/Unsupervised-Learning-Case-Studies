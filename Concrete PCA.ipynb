{
 "cells": [
  {
   "cell_type": "code",
   "execution_count": 1,
   "metadata": {},
   "outputs": [
    {
     "name": "stdout",
     "output_type": "stream",
     "text": [
      "Training Accuracy\n",
      "0.6167516086911289\n",
      "Testing Accuracy\n",
      "0.5998927278389631\n"
     ]
    }
   ],
   "source": [
    "import pandas as pd\n",
    "import numpy as np\n",
    "from sklearn.linear_model import LinearRegression\n",
    "import pandas as pd\n",
    "from sklearn.model_selection import train_test_split\n",
    "from sklearn.preprocessing import PolynomialFeatures\n",
    "demo = pd.read_csv(\"concrete.csv\")\n",
    "X=demo.drop('strength',axis=1)\n",
    "y=demo['strength']\n",
    "poly=PolynomialFeatures(degree=1)\n",
    "trainaccuracy=[]\n",
    "testaccuracy=[]\n",
    "for i in range(100):\n",
    "    Xtrain, Xtest, ytrain, ytest = train_test_split(X, y, test_size= .20,random_state=i)\n",
    "    lr=LinearRegression()\n",
    "    polyXtrain = poly.fit_transform(Xtrain)\n",
    "    polyXtest=poly.transform(Xtest)\n",
    "    lr.fit(polyXtrain,ytrain)\n",
    "    trainaccuracy.append(lr.score(polyXtrain,ytrain))\n",
    "    testaccuracy.append(lr.score(polyXtest,ytest))\n",
    "print(\"Training Accuracy\")\n",
    "print(np.mean(trainaccuracy))\n",
    "print(\"Testing Accuracy\")\n",
    "print(np.mean(testaccuracy))"
   ]
  },
  {
   "cell_type": "code",
   "execution_count": 3,
   "metadata": {
    "scrolled": true
   },
   "outputs": [
    {
     "data": {
      "text/plain": [
       "<matplotlib.axes._subplots.AxesSubplot at 0x176461e0080>"
      ]
     },
     "execution_count": 3,
     "metadata": {},
     "output_type": "execute_result"
    },
    {
     "data": {
      "image/png": "[encoded data removed]",
      "text/plain": [
       "<Figure size 432x288 with 2 Axes>"
      ]
     },
     "metadata": {
      "needs_background": "light"
     },
     "output_type": "display_data"
    }
   ],
   "source": [
    "import seaborn as sns\n",
    "from matplotlib import pyplot as plt\n",
    "sns.heatmap(pd.DataFrame(polyXtrain).corr())"
   ]
  },
  {
   "cell_type": "code",
   "execution_count": 4,
   "metadata": {},
   "outputs": [
    {
     "name": "stdout",
     "output_type": "stream",
     "text": [
      "Training Accuracy\n",
      "0.9006511271367035\n",
      "Testing Accuracy\n",
      "0.8048415033105968\n"
     ]
    }
   ],
   "source": [
    "import pandas as pd\n",
    "import numpy as np\n",
    "from sklearn.linear_model import LinearRegression\n",
    "import pandas as pd\n",
    "from sklearn.model_selection import train_test_split\n",
    "from sklearn.preprocessing import PolynomialFeatures\n",
    "from sklearn.preprocessing import StandardScaler\n",
    "demo = pd.read_csv(\"concrete.csv\")\n",
    "X=demo.drop('strength',axis=1)\n",
    "y=demo['strength']\n",
    "poly=PolynomialFeatures(degree=3)\n",
    "trainaccuracy=[]\n",
    "testaccuracy=[]\n",
    "for i in range(100):\n",
    "    Xtrain, Xtest, ytrain, ytest = train_test_split(X, y, test_size= .20,random_state=i)\n",
    "    sc=StandardScaler()\n",
    "    lr=LinearRegression()\n",
    "    polyXtrain = poly.fit_transform(Xtrain)\n",
    "    polyXtest=poly.transform(Xtest)\n",
    "    scaledpolyXtrain=sc.fit_transform(polyXtrain)\n",
    "    scaledpolyXtest=sc.transform(polyXtest)\n",
    "    lr.fit(scaledpolyXtrain,ytrain)\n",
    "    trainaccuracy.append(lr.score(scaledpolyXtrain,ytrain))\n",
    "    testaccuracy.append(lr.score(scaledpolyXtest,ytest))\n",
    "print(\"Training Accuracy\")\n",
    "print(np.mean(trainaccuracy))\n",
    "print(\"Testing Accuracy\")\n",
    "print(np.mean(testaccuracy))"
   ]
  },
  {
   "cell_type": "code",
   "execution_count": 20,
   "metadata": {},
   "outputs": [
    {
     "name": "stdout",
     "output_type": "stream",
     "text": [
      "Without PCA\n",
      "Testing R2\n",
      "0.8048415033105968\n",
      "Training R2\n",
      "0.9006511271367035\n",
      "\n",
      "With PCA\n",
      "Testing R2\n",
      "0.8488609798778403\n",
      "Training R2\n",
      "0.929799559407132\n"
     ]
    }
   ],
   "source": [
    "from sklearn.preprocessing import StandardScaler\n",
    "from sklearn.linear_model import LinearRegression\n",
    "from sklearn.preprocessing import PolynomialFeatures\n",
    "from sklearn.decomposition import PCA\n",
    "import pandas as pd\n",
    "from sklearn.model_selection import train_test_split\n",
    "import numpy as np\n",
    "import warnings\n",
    "warnings.filterwarnings('ignore')\n",
    "demo = pd.read_csv('concrete.csv')\n",
    "sc=StandardScaler()\n",
    "pca=PCA()\n",
    "poly=PolynomialFeatures(degree=3)\n",
    "X=demo.drop('strength',axis=1)\n",
    "y=demo['strength']\n",
    "trainR2=[]\n",
    "testR2=[]\n",
    "trainR2PCA=[]\n",
    "testR2PCA=[]\n",
    "for i in range(100):\n",
    "    Xtrain, Xtest, ytrain, ytest = train_test_split(X, y, test_size= .20,random_state=i)\n",
    "    Xtrain=poly.fit_transform(Xtrain)\n",
    "    Xtest=poly.transform(Xtest)\n",
    "    scaledXtrain=sc.fit_transform(Xtrain)\n",
    "    scaledXtest=sc.transform(Xtest)\n",
    "    pcascaledXtrain=pca.fit_transform(scaledXtrain)\n",
    "    pcascaledXtest=pca.transform(scaledXtest)\n",
    "    lr=LinearRegression()\n",
    "    lr.fit(scaledXtrain,ytrain)\n",
    "    lrpca=LinearRegression()\n",
    "    lrpca.fit(pcascaledXtrain,ytrain)\n",
    "    trainR2.append(lr.score(scaledXtrain,ytrain))\n",
    "    testR2.append(lr.score(scaledXtest,ytest))\n",
    "    trainR2PCA.append(lrpca.score(pcascaledXtrain,ytrain))\n",
    "    testR2PCA.append(lrpca.score(pcascaledXtest,ytest))\n",
    "print(\"Without PCA\")\n",
    "print(\"Testing R2\")\n",
    "print(np.mean(testR2))\n",
    "print(\"Training R2\")\n",
    "print(np.mean(trainR2))\n",
    "print(\"\")\n",
    "print(\"With PCA\")\n",
    "print(\"Testing R2\")\n",
    "print(np.mean(testR2PCA))\n",
    "print(\"Training R2\")\n",
    "print(np.mean(trainR2PCA))"
   ]
  },
  {
   "cell_type": "code",
   "execution_count": 3,
   "metadata": {},
   "outputs": [
    {
     "data": {
      "text/plain": [
       "array([2.60412917e-01, 1.89927922e-01, 1.44773958e-01, 1.21742656e-01,\n",
       "       6.53002771e-02, 4.15838065e-02, 3.31336777e-02, 2.96000336e-02,\n",
       "       1.98540954e-02, 1.89211676e-02, 1.34438780e-02, 1.11881354e-02,\n",
       "       8.56305921e-03, 7.44334494e-03, 5.22110828e-03, 4.21053207e-03,\n",
       "       3.56188062e-03, 2.88789858e-03, 2.57821098e-03, 2.35389896e-03,\n",
       "       1.60231771e-03, 1.21746208e-03, 1.03216064e-03, 7.83021304e-04,\n",
       "       7.46583394e-04, 6.34663793e-04, 6.02497208e-04, 5.28298769e-04,\n",
       "       4.88388151e-04, 4.49412197e-04, 4.22010378e-04, 4.13370129e-04,\n",
       "       3.93337419e-04, 3.80811024e-04, 3.54695453e-04, 2.97255119e-04,\n",
       "       2.86406747e-04, 2.50634568e-04, 2.35318530e-04, 2.06934333e-04,\n",
       "       1.86274581e-04, 1.65977453e-04, 1.49450559e-04, 1.38505882e-04,\n",
       "       1.26336708e-04, 1.19772254e-04, 1.10479636e-04, 9.49326997e-05,\n",
       "       7.90204406e-05, 7.67603291e-05, 6.50192464e-05, 6.26206303e-05,\n",
       "       5.66932830e-05, 5.53255694e-05, 5.05775082e-05, 3.80098789e-05,\n",
       "       3.43883218e-05, 3.14587465e-05, 2.72039361e-05, 2.43120892e-05,\n",
       "       2.31057104e-05, 2.16532474e-05, 2.03897919e-05, 1.91603019e-05,\n",
       "       1.76720908e-05, 1.51817636e-05, 1.49308215e-05, 1.38655028e-05,\n",
       "       1.09480418e-05, 9.95848983e-06, 9.58109102e-06, 8.55987439e-06,\n",
       "       8.22691759e-06, 7.94017181e-06, 7.24283642e-06, 6.53286989e-06,\n",
       "       5.68831604e-06, 5.56974017e-06, 5.41976150e-06, 4.71170977e-06,\n",
       "       3.98818853e-06, 3.14200765e-06, 3.08518297e-06, 2.85990327e-06,\n",
       "       2.45237549e-06, 2.26927843e-06, 2.22904127e-06, 2.11467789e-06,\n",
       "       1.83884076e-06, 1.80465723e-06, 1.52927836e-06, 1.41249040e-06,\n",
       "       1.32779094e-06, 1.27565606e-06, 1.13194565e-06, 9.88263187e-07,\n",
       "       9.11061065e-07, 8.19095788e-07, 7.23976657e-07, 7.08735526e-07,\n",
       "       5.80499366e-07, 5.41436727e-07, 4.92926090e-07, 4.42253205e-07,\n",
       "       4.38199418e-07, 3.53312178e-07, 3.31198745e-07, 2.66838251e-07,\n",
       "       2.53888573e-07, 2.41351421e-07, 2.10915968e-07, 1.90262091e-07,\n",
       "       1.78293270e-07, 1.60693859e-07, 1.43925592e-07, 1.29101350e-07,\n",
       "       1.09776946e-07, 1.03233526e-07, 9.72713802e-08, 7.23875063e-08,\n",
       "       7.13156644e-08, 5.67956746e-08, 5.38829622e-08, 4.80033403e-08,\n",
       "       4.44033164e-08, 4.01251918e-08, 3.62482486e-08, 2.94439880e-08,\n",
       "       2.48523044e-08, 2.28765108e-08, 1.97195515e-08, 1.65577129e-08,\n",
       "       1.38945508e-08, 1.33427824e-08, 1.00733455e-08, 8.73606138e-09,\n",
       "       7.24394475e-09, 6.29006961e-09, 5.87671199e-09, 4.97998984e-09,\n",
       "       3.43949570e-09, 3.23925824e-09, 2.83972375e-09, 1.92565985e-09,\n",
       "       1.54087503e-09, 1.41685204e-09, 1.20410954e-09, 9.35969036e-10,\n",
       "       6.65455938e-10, 5.85697838e-10, 4.03675064e-10, 3.30233607e-10,\n",
       "       2.93897795e-10, 2.47170834e-10, 2.05424575e-10, 1.00575047e-10,\n",
       "       4.12274151e-11, 2.45629114e-11, 1.69022760e-11, 1.13310593e-11,\n",
       "       9.68470749e-12, 6.08168679e-12, 1.66907739e-12, 2.38751342e-13,\n",
       "       1.49425102e-33])"
      ]
     },
     "execution_count": 3,
     "metadata": {},
     "output_type": "execute_result"
    }
   ],
   "source": [
    "pca.explained_variance_ratio_"
   ]
  }
 ],
 "metadata": {
  "kernelspec": {
   "display_name": "Python 3",
   "language": "python",
   "name": "python3"
  },
  "language_info": {
   "codemirror_mode": {
    "name": "ipython",
    "version": 3
   },
   "file_extension": ".py",
   "mimetype": "text/x-python",
   "name": "python",
   "nbconvert_exporter": "python",
   "pygments_lexer": "ipython3",
   "version": "3.7.3"
  }
 },
 "nbformat": 4,
 "nbformat_minor": 2
}
